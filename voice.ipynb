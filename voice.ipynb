{
 "cells": [
  {
   "cell_type": "code",
   "execution_count": 1,
   "id": "97e220c2-0e7b-463c-81b5-1d1ecb5b5abb",
   "metadata": {},
   "outputs": [
    {
     "data": {
      "application/vnd.jupyter.widget-view+json": {
       "model_id": "d5412187d7e445edb11856babf10567a",
       "version_major": 2,
       "version_minor": 0
      },
      "text/plain": [
       "Button(button_style='success', description='record', icon='mircophone', style=ButtonStyle())"
      ]
     },
     "metadata": {},
     "output_type": "display_data"
    },
    {
     "data": {
      "application/vnd.jupyter.widget-view+json": {
       "model_id": "afaf5869c398493a913d8bb7637468d7",
       "version_major": 2,
       "version_minor": 0
      },
      "text/plain": [
       "Button(button_style='warning', description='stop', icon='stop', style=ButtonStyle())"
      ]
     },
     "metadata": {},
     "output_type": "display_data"
    },
    {
     "data": {
      "application/vnd.jupyter.widget-view+json": {
       "model_id": "8a78a66a24c34e40af3ca3290dba104f",
       "version_major": 2,
       "version_minor": 0
      },
      "text/plain": [
       "Output()"
      ]
     },
     "metadata": {},
     "output_type": "display_data"
    }
   ],
   "source": [
    "import ipywidgets as widgets\n",
    "from IPython.display import display\n",
    "from threading import Thread \n",
    "from queue import Queue\n",
    "\n",
    "messages = Queue()\n",
    "recordings = Queue()\n",
    "\n",
    "record_button = widgets.Button( description=\"record\", disabled=False, button_style=\"success\", icon=\"mircophone\")\n",
    "stop_button = widgets.Button( description=\"stop\", disabled=False, button_style=\"warning\", icon=\"stop\")\n",
    "\n",
    "output = widgets.Output()\n",
    "\n",
    "def start_recording(data):\n",
    "    messages.put(True)\n",
    "\n",
    "    with output:\n",
    "        display(\"starting...\")\n",
    "        record = Thread(target = record_microphone)\n",
    "        record.start()\n",
    "\n",
    "        transcribe = Thread(target = speech_recognition , args=(output,))\n",
    "        transcribe.start()\n",
    "\n",
    "        \n",
    "def stop_recording(data):\n",
    "    with output:\n",
    "        messages.get()\n",
    "        display(\"stoppped.\")\n",
    "\n",
    "record_button.on_click(start_recording)\n",
    "stop_button.on_click(stop_recording)\n",
    "\n",
    "\n",
    "display(record_button, stop_button, output)\n",
    "\n"
   ]
  },
  {
   "cell_type": "code",
   "execution_count": 2,
   "id": "c6be0802-b645-47c0-83ed-420e334fcf53",
   "metadata": {},
   "outputs": [],
   "source": [
    "import pyaudio\n",
    "\n",
    "p=pyaudio.PyAudio()\n",
    "\n",
    "#for i in range(p.get_device_count()):\n",
    "   # print(p.get_device_info_by_index(i))\n",
    "\n",
    "p.terminate()\n"
   ]
  },
  {
   "cell_type": "code",
   "execution_count": 3,
   "id": "f4aa7d19-d7d3-42f6-aead-95e0c5ec2134",
   "metadata": {},
   "outputs": [],
   "source": [
    "CHANNELS = 1\n",
    "fr = 16000\n",
    "rs = 20\n",
    "af = pyaudio.paInt16\n",
    "ss = 2\n",
    "\n",
    "def record_microphone(chunk = 1024):\n",
    "    p=pyaudio.PyAudio()\n",
    "\n",
    "    stream = p.open(format = af , channels = CHANNELS , rate = fr , input = True , input_device_index = 1 ,frames_per_buffer=chunk)\n",
    "    frames = []\n",
    "\n",
    "    while not messages.empty():\n",
    "        data = stream.read(chunk)\n",
    "        frames.append(data)\n",
    "\n",
    "        if len(frames) >= fr*rs/chunk:\n",
    "            recordings.put(frames.copy())\n",
    "\n",
    "            frames = []\n",
    "\n",
    "    stream.stop_stream()\n",
    "    stream.close()\n",
    "    p.terminate()"
   ]
  },
  {
   "cell_type": "code",
   "execution_count": 4,
   "id": "4429acba-d3dd-4eab-a262-249fb6006931",
   "metadata": {},
   "outputs": [],
   "source": [
    "import subprocess\n",
    "import json\n",
    "from vosk import Model , KaldiRecognizer\n",
    "\n",
    "model = Model(model_name = \"vosk-model-en-us-0.22\")\n",
    "rec = KaldiRecognizer(model , fr)\n",
    "rec.SetWords(True)\n",
    "\n",
    "def speech_recognition(output):\n",
    "    while not messages.empty():\n",
    "        frames = recordings.get()\n",
    "        rec.AcceptWaveform(b''.join(frames))\n",
    "\n",
    "        result = rec.Result()\n",
    "        text = json.loads(result)[\"text\"]\n",
    "\n",
    "        recase_script = r\"C:\\Users\\shshv\\voice_test\\recase\\recasepunc.py\"\n",
    "        checkpoint = r\"C:\\Users\\shshv\\voice_test\\recase\\checkpoint\"\n",
    "\n",
    "        try:\n",
    "            cased = subprocess.check_output(\n",
    "            [\"python\", recase_script, \"predict\", checkpoint],\n",
    "\n",
    "            shell=True, text=True, input=text, stderr=subprocess.STDOUT\n",
    "            )\n",
    "            output.append_stdout(cased)\n",
    "        except subprocess.CalledProcessError as e:\n",
    "            output.append_stdout(f\"Error: {e.output}\")\n"
   ]
  },
  {
   "cell_type": "code",
   "execution_count": null,
   "id": "0f2f10d1-dfa3-482a-a523-d5d010ee66ac",
   "metadata": {},
   "outputs": [],
   "source": []
  }
 ],
 "metadata": {
  "kernelspec": {
   "display_name": "Python 3 (ipykernel)",
   "language": "python",
   "name": "python3"
  },
  "language_info": {
   "codemirror_mode": {
    "name": "ipython",
    "version": 3
   },
   "file_extension": ".py",
   "mimetype": "text/x-python",
   "name": "python",
   "nbconvert_exporter": "python",
   "pygments_lexer": "ipython3",
   "version": "3.13.2"
  }
 },
 "nbformat": 4,
 "nbformat_minor": 5
}
