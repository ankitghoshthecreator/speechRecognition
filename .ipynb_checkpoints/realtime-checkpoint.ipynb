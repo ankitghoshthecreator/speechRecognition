{
 "cells": [
  {
   "cell_type": "code",
   "execution_count": 1,
   "id": "250c6092-2d57-42a1-8385-f8809397132c",
   "metadata": {},
   "outputs": [],
   "source": [
    "import ipywidgets as widgets\n",
    "from IPython.display import display\n",
    "from threading import Thread\n",
    "from queue import Queue\n",
    "import pyaudio"
   ]
  },
  {
   "cell_type": "code",
   "execution_count": 2,
   "id": "ae827120-8087-4473-a267-3a21eb38357e",
   "metadata": {},
   "outputs": [],
   "source": [
    "messages = Queue()\n",
    "recording = Queue()"
   ]
  },
  {
   "cell_type": "code",
   "execution_count": 3,
   "id": "f0a54da6-a00d-4bf3-bb4e-96c811976727",
   "metadata": {},
   "outputs": [],
   "source": [
    "record_button = widgets.Button(description=\"Record\", icon=\"microphone\", button_style=\"success\")\n",
    "stop_button = widgets.Button(description=\"Stop\", icon=\"stop\", button_style=\"warning\")\n",
    "output = widgets.Output()"
   ]
  },
  {
   "cell_type": "code",
   "execution_count": 4,
   "id": "781daa55-e719-4ca9-8838-f2f46fa5749c",
   "metadata": {},
   "outputs": [
    {
     "data": {
      "application/vnd.jupyter.widget-view+json": {
       "model_id": "e8ccb10f87914adc819be45730817eda",
       "version_major": 2,
       "version_minor": 0
      },
      "text/plain": [
       "Button(button_style='success', description='Record', icon='microphone', style=ButtonStyle())"
      ]
     },
     "metadata": {},
     "output_type": "display_data"
    },
    {
     "data": {
      "application/vnd.jupyter.widget-view+json": {
       "model_id": "9ce0626e57c5402bad31016c0fc4885a",
       "version_major": 2,
       "version_minor": 0
      },
      "text/plain": [
       "Button(button_style='warning', description='Stop', icon='stop', style=ButtonStyle())"
      ]
     },
     "metadata": {},
     "output_type": "display_data"
    },
    {
     "data": {
      "application/vnd.jupyter.widget-view+json": {
       "model_id": "e131ca163c5049648390463c1b810419",
       "version_major": 2,
       "version_minor": 0
      },
      "text/plain": [
       "Output()"
      ]
     },
     "metadata": {},
     "output_type": "display_data"
    }
   ],
   "source": [
    "def start_recording(data):\n",
    "    messages.put(True)\n",
    "\n",
    "    with output:\n",
    "        display(\"Starting Recording...\")\n",
    "        record=Thread(target=record_microphone)\n",
    "        record.start()\n",
    "\n",
    "        transcribe=Thread(target=speech_recognition, args=(output,))\n",
    "        transcribe.start()\n",
    "\n",
    "def stop_recording(data):\n",
    "    if not messages.empty(): \n",
    "        messages.get()\n",
    "\n",
    "    with output:\n",
    "        display(\"Stopped\")\n",
    "\n",
    "record_button.on_click(start_recording)\n",
    "stop_button.on_click(stop_recording)\n",
    "\n",
    "display(record_button, stop_button, output) \n"
   ]
  },
  {
   "cell_type": "code",
   "execution_count": 5,
   "id": "96956039-810e-4fe9-9390-1850eed4b316",
   "metadata": {},
   "outputs": [
    {
     "name": "stdout",
     "output_type": "stream",
     "text": [
      "Device 0: Microsoft Sound Mapper - Input\n",
      "  Max Input Channels: 2\n",
      "  Default Sample Rate: 44100.0\n",
      "Device 1: Microphone Array (Realtek(R) Au\n",
      "  Max Input Channels: 2\n",
      "  Default Sample Rate: 44100.0\n",
      "Device 2: Microsoft Sound Mapper - Output\n",
      "  Max Input Channels: 0\n",
      "  Default Sample Rate: 44100.0\n",
      "Device 3: Headphones (Realtek(R) Audio)\n",
      "  Max Input Channels: 0\n",
      "  Default Sample Rate: 44100.0\n",
      "Device 4: Speakers (Realtek(R) Audio)\n",
      "  Max Input Channels: 0\n",
      "  Default Sample Rate: 44100.0\n",
      "Device 5: Primary Sound Capture Driver\n",
      "  Max Input Channels: 2\n",
      "  Default Sample Rate: 44100.0\n",
      "Device 6: Microphone Array (Realtek(R) Audio)\n",
      "  Max Input Channels: 2\n",
      "  Default Sample Rate: 44100.0\n",
      "Device 7: Primary Sound Driver\n",
      "  Max Input Channels: 0\n",
      "  Default Sample Rate: 44100.0\n",
      "Device 8: Headphones (Realtek(R) Audio)\n",
      "  Max Input Channels: 0\n",
      "  Default Sample Rate: 44100.0\n",
      "Device 9: Speakers (Realtek(R) Audio)\n",
      "  Max Input Channels: 0\n",
      "  Default Sample Rate: 44100.0\n",
      "Device 10: Headphones (Realtek(R) Audio)\n",
      "  Max Input Channels: 0\n",
      "  Default Sample Rate: 48000.0\n",
      "Device 11: Speakers (Realtek(R) Audio)\n",
      "  Max Input Channels: 0\n",
      "  Default Sample Rate: 48000.0\n",
      "Device 12: Microphone Array (Realtek(R) Audio)\n",
      "  Max Input Channels: 2\n",
      "  Default Sample Rate: 48000.0\n",
      "Device 13: Headphones ()\n",
      "  Max Input Channels: 0\n",
      "  Default Sample Rate: 44100.0\n",
      "Device 14: Headphones ()\n",
      "  Max Input Channels: 0\n",
      "  Default Sample Rate: 44100.0\n",
      "Device 15: Microphone (Realtek HD Audio Mic input)\n",
      "  Max Input Channels: 2\n",
      "  Default Sample Rate: 44100.0\n",
      "Device 16: Stereo Mix (Realtek HD Audio Stereo input)\n",
      "  Max Input Channels: 2\n",
      "  Default Sample Rate: 48000.0\n",
      "Device 17: Headphones 1 (Realtek HD Audio 2nd output with SST)\n",
      "  Max Input Channels: 0\n",
      "  Default Sample Rate: 44100.0\n",
      "Device 18: Headphones 2 (Realtek HD Audio 2nd output with SST)\n",
      "  Max Input Channels: 0\n",
      "  Default Sample Rate: 44100.0\n",
      "Device 19: PC Speaker (Realtek HD Audio 2nd output with SST)\n",
      "  Max Input Channels: 2\n",
      "  Default Sample Rate: 48000.0\n",
      "Device 20: Microphone Array (Realtek HD Audio Mic Array input)\n",
      "  Max Input Channels: 2\n",
      "  Default Sample Rate: 44100.0\n",
      "Device 21: Speakers 1 (Realtek HD Audio output with SST)\n",
      "  Max Input Channels: 0\n",
      "  Default Sample Rate: 44100.0\n",
      "Device 22: Speakers 2 (Realtek HD Audio output with SST)\n",
      "  Max Input Channels: 0\n",
      "  Default Sample Rate: 44100.0\n",
      "Device 23: PC Speaker (Realtek HD Audio output with SST)\n",
      "  Max Input Channels: 2\n",
      "  Default Sample Rate: 48000.0\n",
      "Device 24: Input ()\n",
      "  Max Input Channels: 2\n",
      "  Default Sample Rate: 44100.0\n",
      "Device 25: Headphones ()\n",
      "  Max Input Channels: 0\n",
      "  Default Sample Rate: 44100.0\n",
      "Device 26: Headphones ()\n",
      "  Max Input Channels: 0\n",
      "  Default Sample Rate: 44100.0\n",
      "Device 27: Headphones ()\n",
      "  Max Input Channels: 0\n",
      "  Default Sample Rate: 44100.0\n"
     ]
    }
   ],
   "source": [
    "p = pyaudio.PyAudio()\n",
    "for i in range(p.get_device_count()):\n",
    "    dev = p.get_device_info_by_index(i)\n",
    "    print(f\"Device {i}: {dev['name']}\")\n",
    "    print(f\"  Max Input Channels: {dev['maxInputChannels']}\")\n",
    "    print(f\"  Default Sample Rate: {dev['defaultSampleRate']}\")\n",
    "p.terminate()\n",
    "\n"
   ]
  },
  {
   "cell_type": "code",
   "execution_count": 8,
   "id": "53630432-e4b4-4dd8-a8fc-148624af771c",
   "metadata": {},
   "outputs": [],
   "source": [
    "CHANNELS = 1\n",
    "fr = 16000\n",
    "rs = 20\n",
    "af = pyaudio.paInt16\n",
    "ss = 2\n",
    "\n",
    "def record_microphone(chunk=1024):\n",
    "    p = pyaudio.PyAudio()\n",
    "    \n",
    "    # Get device info to check supported rates\n",
    "    device_info = p.get_device_info_by_index(12)\n",
    "    supported_rate = int(device_info['defaultSampleRate'])\n",
    "    \n",
    "    # Use the supported rate instead of the hardcoded 16000\n",
    "    stream = p.open(format=af, channels=CHANNELS, rate=supported_rate, \n",
    "                   input=True, input_device_index=12, frames_per_buffer=chunk)\n",
    "    \n",
    "    # Rest of your function remains the same\n",
    "    frames = []\n",
    "    while messages.qsize() > 0:\n",
    "        data = stream.read(chunk)\n",
    "        frames.append(data)\n",
    "        \n",
    "        if len(frames) >= supported_rate*rs/chunk:\n",
    "            recording.put(frames.copy())\n",
    "            frames = []\n",
    "            \n",
    "    stream.stop_stream()\n",
    "    stream.close()\n",
    "    p.terminate()"
   ]
  },
  {
   "cell_type": "code",
   "execution_count": 9,
   "id": "a9c1c15f-9600-4b67-be1c-d3df0d1622c8",
   "metadata": {},
   "outputs": [],
   "source": [
    "import subprocess\n",
    "import json\n",
    "from vosk import Model , KaldiRecognizer\n",
    "\n",
    "model = Model(model_name = \"vosk-model-en-us-0.22\")\n",
    "rec = KaldiRecognizer(model , fr)\n",
    "rec.SetWords(True)\n",
    "\n",
    "def speech_recognition(output):\n",
    "    while messages.qsize() > 0:\n",
    "        frames = recording.get()\n",
    "        rec.AcceptWaveform(b''.join(frames))\n",
    "        result = rec.Result()\n",
    "        text = json.loads(result)[\"text\"]\n",
    "\n",
    "        with output:\n",
    "            display(text)\n",
    "\n"
   ]
  },
  {
   "cell_type": "code",
   "execution_count": null,
   "id": "79f19444-fd64-4731-9345-ad3ca1ecd04c",
   "metadata": {},
   "outputs": [],
   "source": []
  }
 ],
 "metadata": {
  "kernelspec": {
   "display_name": "Python 3 (ipykernel)",
   "language": "python",
   "name": "python3"
  },
  "language_info": {
   "codemirror_mode": {
    "name": "ipython",
    "version": 3
   },
   "file_extension": ".py",
   "mimetype": "text/x-python",
   "name": "python",
   "nbconvert_exporter": "python",
   "pygments_lexer": "ipython3",
   "version": "3.13.2"
  }
 },
 "nbformat": 4,
 "nbformat_minor": 5
}
