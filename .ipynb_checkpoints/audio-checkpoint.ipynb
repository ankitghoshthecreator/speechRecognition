{
 "cells": [
  {
   "cell_type": "code",
   "execution_count": 9,
   "id": "f35c0d7c-6df8-4286-bd99-7dbed45d9f2d",
   "metadata": {},
   "outputs": [
    {
     "name": "stdout",
     "output_type": "stream",
     "text": [
      "Requirement already satisfied: vosk in c:\\users\\ankit\\appdata\\local\\programs\\python\\python39\\lib\\site-packages (0.3.45)\n",
      "Requirement already satisfied: cffi>=1.0 in c:\\users\\ankit\\appdata\\roaming\\python\\python39\\site-packages (from vosk) (1.17.1)\n",
      "Requirement already satisfied: requests in c:\\users\\ankit\\appdata\\local\\programs\\python\\python39\\lib\\site-packages (from vosk) (2.32.3)\n",
      "Requirement already satisfied: srt in c:\\users\\ankit\\appdata\\local\\programs\\python\\python39\\lib\\site-packages (from vosk) (3.5.3)\n",
      "Requirement already satisfied: tqdm in c:\\users\\ankit\\appdata\\local\\programs\\python\\python39\\lib\\site-packages (from vosk) (4.67.1)\n",
      "Requirement already satisfied: websockets in c:\\users\\ankit\\appdata\\local\\programs\\python\\python39\\lib\\site-packages (from vosk) (15.0.1)\n",
      "Requirement already satisfied: pycparser in c:\\users\\ankit\\appdata\\roaming\\python\\python39\\site-packages (from cffi>=1.0->vosk) (2.22)\n",
      "Requirement already satisfied: charset-normalizer<4,>=2 in c:\\users\\ankit\\appdata\\local\\programs\\python\\python39\\lib\\site-packages (from requests->vosk) (3.4.1)\n",
      "Requirement already satisfied: idna<4,>=2.5 in c:\\users\\ankit\\appdata\\local\\programs\\python\\python39\\lib\\site-packages (from requests->vosk) (3.10)\n",
      "Requirement already satisfied: urllib3<3,>=1.21.1 in c:\\users\\ankit\\appdata\\local\\programs\\python\\python39\\lib\\site-packages (from requests->vosk) (1.26.20)\n",
      "Requirement already satisfied: certifi>=2017.4.17 in c:\\users\\ankit\\appdata\\local\\programs\\python\\python39\\lib\\site-packages (from requests->vosk) (2025.1.31)\n",
      "Requirement already satisfied: colorama in c:\\users\\ankit\\appdata\\local\\programs\\python\\python39\\lib\\site-packages (from tqdm->vosk) (0.4.6)\n",
      "Note: you may need to restart the kernel to use updated packages.\n"
     ]
    }
   ],
   "source": [
    "%pip install vosk\n"
   ]
  },
  {
   "cell_type": "code",
   "execution_count": 10,
   "id": "23a7e5b6-4c92-4975-86d4-70b166d152ae",
   "metadata": {},
   "outputs": [],
   "source": [
    "from vosk import Model, KaldiRecognizer "
   ]
  },
  {
   "cell_type": "code",
   "execution_count": 11,
   "id": "645890e7-df2d-4614-9a55-08c7c93cb934",
   "metadata": {},
   "outputs": [],
   "source": [
    "FRAME_RATE=16000\n",
    "CHANNELS=1\n",
    "\n",
    "model=Model(model_name=\"vosk-model-en-us-0.22\")\n",
    "rec=KaldiRecognizer(model, FRAME_RATE)\n",
    "rec.SetWords(True)"
   ]
  },
  {
   "cell_type": "code",
   "execution_count": null,
   "id": "ab421ced-36c7-474d-b5a9-d7a7030baf37",
   "metadata": {},
   "outputs": [],
   "source": []
  }
 ],
 "metadata": {
  "kernelspec": {
   "display_name": "Python 3 (ipykernel)",
   "language": "python",
   "name": "python3"
  },
  "language_info": {
   "codemirror_mode": {
    "name": "ipython",
    "version": 3
   },
   "file_extension": ".py",
   "mimetype": "text/x-python",
   "name": "python",
   "nbconvert_exporter": "python",
   "pygments_lexer": "ipython3",
   "version": "3.9.1"
  }
 },
 "nbformat": 4,
 "nbformat_minor": 5
}
